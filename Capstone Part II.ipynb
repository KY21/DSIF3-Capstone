{
 "cells": [
  {
   "cell_type": "markdown",
   "id": "4ddb0d33",
   "metadata": {},
   "source": [
    "# <span style=\"color:#36454F\">Part 2: Problem Statement and Dataset</span>\n",
    "\n",
    "## <span style=\"color:#5F9EA0\">Topic of Interest:</span>\n",
    "<span style=\"font-size: 16px\">Analysis of Workplace Injuries in the Construction Sector</span>\n",
    "\n",
    "## <span style=\"color:#36454F\">Problem Statement</span>\n",
    "\n",
    "1. Regression\\\n",
    "**S** - Model will predict monthly/yearly workplace accidents/injuries (by individual)\\\n",
    "**M** - Performance to be guided by RMSE\\\n",
    "**A** - Time-based so not sure if the features are suitable to predict rates as this is based on accident data (i.e. accident has already occurred). Using this data to predict number of accidents in a time frame does not seem feasible\\\n",
    "**R** - Show workplace injuries trends and the correlated factors\\\n",
    "**T** - <span style=\"color:#E56E94\">Idea Aborted</span>\n",
    "\n",
    "\n",
    "2. Classification - Creating a risk profile\\\n",
    "**S** - Model will predict degree of injury\\\n",
    "**M** - Performance to be guided by accuracy and F1 score\\\n",
    "**A** - If by accident, features would be from one-hot encoded event keywords. If by individual injuries, human, work nature, env features can be used as variables.\\\n",
    "**R** - Risk profile to show what factors could lead to serious injury, areas to focus on safety training or increase in inspections for certain work.\\\n",
    "**T** - 🕛🕒🕕🕘🕛\n",
    "\n",
    "<span style=\"color:#5F9EA0\">I will build a classification model to predict the degree of injuries from the accident dataset over the last 5/10 years and identify the correlated features that determine the rankings. Accuracy and F1 score would be used as success metrics.</span>\n",
    "\n",
    "\n",
    "SMART: Specific, Measurable, Achievable, Relevant, Time-bound\n",
    "\n",
    "## <span style=\"color:#36454F\">Dataset Source(s):</span>\n",
    "Occupational Safety and Health Administration (OSHA) [data](https://enforcedata.dol.gov/views/data_summary.php) uploaded by the US Department of Labor.\n",
    "- Time period: 1970 - present (Retrieved February 17, 2022)\n"
   ]
  },
  {
   "cell_type": "markdown",
   "id": "d8c3ea56",
   "metadata": {},
   "source": [
    "## <span style=\"color:#36454F\">Import Libraries</span>"
   ]
  },
  {
   "cell_type": "code",
   "execution_count": 104,
   "id": "ed60173f",
   "metadata": {},
   "outputs": [],
   "source": [
    "import pandas as pd\n",
    "import numpy as np\n",
    "import seaborn as sns\n",
    "import glob\n",
    "pd.set_option(\"display.max_colwidth\", None)"
   ]
  },
  {
   "cell_type": "markdown",
   "id": "46e11953",
   "metadata": {},
   "source": [
    "## <span style=\"color:#36454F\">Read Files</span>"
   ]
  },
  {
   "cell_type": "code",
   "execution_count": 2,
   "id": "cafc5dbf",
   "metadata": {},
   "outputs": [
    {
     "data": {
      "text/plain": [
       "((142212, 16), (206784, 21), (992789, 4))"
      ]
     },
     "execution_count": 2,
     "metadata": {},
     "output_type": "execute_result"
    }
   ],
   "source": [
    "accident_df = pd.read_csv('osha_accident.csv')\n",
    "accident_abstract_df = pd.read_csv('osha_accident_abstract.csv')\n",
    "accident_injury_df = pd.read_csv('osha_accident_injury.csv')\n",
    "accident_df.shape, accident_abstract_df.shape, accident_injury_df.shape"
   ]
  },
  {
   "cell_type": "markdown",
   "id": "6379b71f",
   "metadata": {},
   "source": [
    "***Note:*** The 3 files have different shapes. The accident abstract file was downloaded on 18 Feb but it does not explain the huge difference in rows. This is a possible indication of duplicate rows."
   ]
  },
  {
   "cell_type": "code",
   "execution_count": 119,
   "id": "96e4b32c",
   "metadata": {},
   "outputs": [
    {
     "data": {
      "text/plain": [
       "['data/osha_inspection_20220217/osha_inspection0.csv',\n",
       " 'data/osha_inspection_20220217/osha_inspection1.csv',\n",
       " 'data/osha_inspection_20220217/osha_inspection3.csv',\n",
       " 'data/osha_inspection_20220217/osha_inspection2.csv',\n",
       " 'data/osha_inspection_20220217/osha_inspection4.csv']"
      ]
     },
     "execution_count": 119,
     "metadata": {},
     "output_type": "execute_result"
    }
   ],
   "source": [
    "inspect_files = glob.glob('data/osha_inspection_20220217/osha_inspection*.csv')\n",
    "inspect_files"
   ]
  },
  {
   "cell_type": "code",
   "execution_count": 120,
   "id": "5901090a",
   "metadata": {
    "scrolled": true
   },
   "outputs": [
    {
     "name": "stderr",
     "output_type": "stream",
     "text": [
      "/var/folders/pf/rrh9p6sx2dd51926v2m3hf9m0000gn/T/ipykernel_15461/2493664863.py:1: DtypeWarning: Columns (8,16,20,23,24,25,26,27,29) have mixed types. Specify dtype option on import or set low_memory=False.\n",
      "  inspection_df = pd.concat((pd.read_csv(f) for f in inspect_files), ignore_index=True)\n",
      "/var/folders/pf/rrh9p6sx2dd51926v2m3hf9m0000gn/T/ipykernel_15461/2493664863.py:1: DtypeWarning: Columns (18,19,20,21,22,23,24) have mixed types. Specify dtype option on import or set low_memory=False.\n",
      "  inspection_df = pd.concat((pd.read_csv(f) for f in inspect_files), ignore_index=True)\n",
      "/var/folders/pf/rrh9p6sx2dd51926v2m3hf9m0000gn/T/ipykernel_15461/2493664863.py:1: DtypeWarning: Columns (20,23,24) have mixed types. Specify dtype option on import or set low_memory=False.\n",
      "  inspection_df = pd.concat((pd.read_csv(f) for f in inspect_files), ignore_index=True)\n",
      "/var/folders/pf/rrh9p6sx2dd51926v2m3hf9m0000gn/T/ipykernel_15461/2493664863.py:1: DtypeWarning: Columns (16,18,20,22,23,24,25,26,27,29) have mixed types. Specify dtype option on import or set low_memory=False.\n",
      "  inspection_df = pd.concat((pd.read_csv(f) for f in inspect_files), ignore_index=True)\n",
      "/var/folders/pf/rrh9p6sx2dd51926v2m3hf9m0000gn/T/ipykernel_15461/2493664863.py:1: DtypeWarning: Columns (18,19,20,21,22,23,24) have mixed types. Specify dtype option on import or set low_memory=False.\n",
      "  inspection_df = pd.concat((pd.read_csv(f) for f in inspect_files), ignore_index=True)\n"
     ]
    },
    {
     "data": {
      "text/plain": [
       "(4866341, 36)"
      ]
     },
     "execution_count": 120,
     "metadata": {},
     "output_type": "execute_result"
    }
   ],
   "source": [
    "inspection_df = pd.concat((pd.read_csv(f) for f in inspect_files), ignore_index=True)\n",
    "inspection_df.shape"
   ]
  },
  {
   "cell_type": "markdown",
   "id": "e1408ef1",
   "metadata": {},
   "source": [
    "## <span style=\"color:#36454F\">Data Types & Missing Values</span>"
   ]
  },
  {
   "cell_type": "code",
   "execution_count": 12,
   "id": "5f9cbfdd",
   "metadata": {},
   "outputs": [
    {
     "name": "stdout",
     "output_type": "stream",
     "text": [
      "<class 'pandas.core.frame.DataFrame'>\n",
      "RangeIndex: 142212 entries, 0 to 142211\n",
      "Data columns (total 16 columns):\n",
      " #   Column         Non-Null Count   Dtype  \n",
      "---  ------         --------------   -----  \n",
      " 0   summary_nr     142212 non-null  int64  \n",
      " 1   report_id      142212 non-null  int64  \n",
      " 2   event_date     142212 non-null  object \n",
      " 3   event_time     0 non-null       float64\n",
      " 4   event_desc     142210 non-null  object \n",
      " 5   event_keyword  141944 non-null  object \n",
      " 6   const_end_use  30619 non-null   object \n",
      " 7   build_stories  21452 non-null   float64\n",
      " 8   nonbuild_ht    15276 non-null   float64\n",
      " 9   project_cost   25494 non-null   object \n",
      " 10  project_type   30985 non-null   object \n",
      " 11  sic_list       109089 non-null  object \n",
      " 12  fatality       64306 non-null   object \n",
      " 13  state_flag     0 non-null       float64\n",
      " 14  abstract_text  0 non-null       float64\n",
      " 15  load_dt        142212 non-null  object \n",
      "dtypes: float64(5), int64(2), object(9)\n",
      "memory usage: 17.4+ MB\n"
     ]
    }
   ],
   "source": [
    "accident_df.info()"
   ]
  },
  {
   "cell_type": "markdown",
   "id": "8798921f",
   "metadata": {},
   "source": [
    "***Note:*** The time of event, accident abstract and state details are empty!"
   ]
  },
  {
   "cell_type": "code",
   "execution_count": 14,
   "id": "bf1ebb0b",
   "metadata": {},
   "outputs": [
    {
     "name": "stdout",
     "output_type": "stream",
     "text": [
      "<class 'pandas.core.frame.DataFrame'>\n",
      "RangeIndex: 992789 entries, 0 to 992788\n",
      "Data columns (total 4 columns):\n",
      " #   Column         Non-Null Count   Dtype \n",
      "---  ------         --------------   ----- \n",
      " 0   summary_nr     992789 non-null  int64 \n",
      " 1   line_nr        992789 non-null  int64 \n",
      " 2   abstract_text  992228 non-null  object\n",
      " 3   load_dt        992789 non-null  object\n",
      "dtypes: int64(2), object(2)\n",
      "memory usage: 30.3+ MB\n"
     ]
    }
   ],
   "source": [
    "accident_abstract_df.info()"
   ]
  },
  {
   "cell_type": "code",
   "execution_count": 13,
   "id": "7fbae995",
   "metadata": {},
   "outputs": [
    {
     "name": "stdout",
     "output_type": "stream",
     "text": [
      "<class 'pandas.core.frame.DataFrame'>\n",
      "RangeIndex: 206784 entries, 0 to 206783\n",
      "Data columns (total 21 columns):\n",
      " #   Column          Non-Null Count   Dtype  \n",
      "---  ------          --------------   -----  \n",
      " 0   summary_nr      206784 non-null  int64  \n",
      " 1   rel_insp_nr     206784 non-null  int64  \n",
      " 2   age             206784 non-null  int64  \n",
      " 3   sex             133428 non-null  object \n",
      " 4   nature_of_inj   172221 non-null  float64\n",
      " 5   part_of_body    172221 non-null  float64\n",
      " 6   src_of_injury   172221 non-null  float64\n",
      " 7   event_type      206701 non-null  float64\n",
      " 8   evn_factor      172216 non-null  float64\n",
      " 9   hum_factor      172218 non-null  float64\n",
      " 10  occ_code        202753 non-null  float64\n",
      " 11  degree_of_inj   206702 non-null  float64\n",
      " 12  task_assigned   203264 non-null  float64\n",
      " 13  hazsub          29287 non-null   object \n",
      " 14  const_op        171183 non-null  float64\n",
      " 15  const_op_cause  178205 non-null  float64\n",
      " 16  fat_cause       171090 non-null  float64\n",
      " 17  fall_distance   2631 non-null    float64\n",
      " 18  fall_ht         13531 non-null   float64\n",
      " 19  injury_line_nr  206784 non-null  int64  \n",
      " 20  load_dt         206784 non-null  object \n",
      "dtypes: float64(14), int64(4), object(3)\n",
      "memory usage: 33.1+ MB\n"
     ]
    }
   ],
   "source": [
    "accident_injury_df.info()"
   ]
  },
  {
   "cell_type": "markdown",
   "id": "61052c66",
   "metadata": {},
   "source": [
    "## <span style=\"color:#36454F\">Checks for Duplicates</span>"
   ]
  },
  {
   "cell_type": "code",
   "execution_count": 70,
   "id": "bf2383aa",
   "metadata": {},
   "outputs": [
    {
     "name": "stdout",
     "output_type": "stream",
     "text": [
      "accident_df:  (142212, 16) (142212,)\n",
      "accident_abstract_df:  (992789, 4) (142235,)\n",
      "accident_injury_df:  (206784, 21) (164716,)\n"
     ]
    }
   ],
   "source": [
    "print('accident_df: ', accident_df.shape, accident_df['summary_nr'].unique().shape)\n",
    "print('accident_abstract_df: ', accident_abstract_df.shape, accident_abstract_df['summary_nr'].unique().shape)\n",
    "print('accident_injury_df: ', accident_injury_df.shape, accident_injury_df['summary_nr'].unique().shape)"
   ]
  },
  {
   "cell_type": "markdown",
   "id": "8a9a2eb1",
   "metadata": {},
   "source": [
    "The accident df has no duplicate accident form IDs but the abstract and injury dataframes have duplicate cases."
   ]
  },
  {
   "cell_type": "markdown",
   "id": "6b65cb54",
   "metadata": {},
   "source": [
    "### <span style=\"color:#045F5F\">Compare accident_df & accident_abstract_df</span>"
   ]
  },
  {
   "cell_type": "code",
   "execution_count": 71,
   "id": "33351f9f",
   "metadata": {},
   "outputs": [
    {
     "name": "stdout",
     "output_type": "stream",
     "text": [
      "(992789, 20)\n"
     ]
    },
    {
     "data": {
      "text/plain": [
       "both          992592\n",
       "left_only        197\n",
       "right_only         0\n",
       "Name: _merge, dtype: int64"
      ]
     },
     "execution_count": 71,
     "metadata": {},
     "output_type": "execute_result"
    }
   ],
   "source": [
    "#Merge accident_df on accident_abstract_df to identify \"missing\" accidents\n",
    "df_all_abstract = accident_abstract_df.merge(accident_df.drop_duplicates(), on=['summary_nr'], \n",
    "                                             how='left', indicator=True)\n",
    "print(df_all_abstract.shape)\n",
    "df_all_abstract['_merge'].value_counts()"
   ]
  },
  {
   "cell_type": "code",
   "execution_count": 74,
   "id": "e23618a6",
   "metadata": {},
   "outputs": [
    {
     "data": {
      "text/plain": [
       "array(['2022-02-18 00:20:15 EST'], dtype=object)"
      ]
     },
     "execution_count": 74,
     "metadata": {},
     "output_type": "execute_result"
    }
   ],
   "source": [
    "#Missing accident abstracts\n",
    "df_all_abstract['load_dt_x'].loc[df_all_abstract['_merge']=='left_only'].unique()"
   ]
  },
  {
   "cell_type": "markdown",
   "id": "71147f02",
   "metadata": {},
   "source": [
    "***Observation:*** The additional 197 records were due to the 1 day lag in retrieving the dataset. The other accident form IDs (142k unique) managed to match with 992k in the abstract dataframe; indicating many duplicates as seen below - Form 202614442 had 110 rows! "
   ]
  },
  {
   "cell_type": "code",
   "execution_count": 190,
   "id": "7050f4be",
   "metadata": {},
   "outputs": [
    {
     "data": {
      "text/plain": [
       "202614442    110\n",
       "202588034     98\n",
       "201634052     94\n",
       "201780053     83\n",
       "202713764     82\n",
       "Name: summary_nr, dtype: int64"
      ]
     },
     "execution_count": 190,
     "metadata": {},
     "output_type": "execute_result"
    }
   ],
   "source": [
    "df_all_abstract['summary_nr'].value_counts().head()"
   ]
  },
  {
   "cell_type": "code",
   "execution_count": 92,
   "id": "58688a29",
   "metadata": {
    "scrolled": true
   },
   "outputs": [
    {
     "data": {
      "text/html": [
       "<div>\n",
       "<style scoped>\n",
       "    .dataframe tbody tr th:only-of-type {\n",
       "        vertical-align: middle;\n",
       "    }\n",
       "\n",
       "    .dataframe tbody tr th {\n",
       "        vertical-align: top;\n",
       "    }\n",
       "\n",
       "    .dataframe thead th {\n",
       "        text-align: right;\n",
       "    }\n",
       "</style>\n",
       "<table border=\"1\" class=\"dataframe\">\n",
       "  <thead>\n",
       "    <tr style=\"text-align: right;\">\n",
       "      <th></th>\n",
       "      <th>summary_nr</th>\n",
       "      <th>line_nr</th>\n",
       "      <th>abstract_text_x</th>\n",
       "      <th>load_dt_x</th>\n",
       "      <th>report_id</th>\n",
       "      <th>event_date</th>\n",
       "      <th>event_time</th>\n",
       "      <th>event_desc</th>\n",
       "      <th>event_keyword</th>\n",
       "      <th>const_end_use</th>\n",
       "      <th>...</th>\n",
       "      <th>nonbuild_ht</th>\n",
       "      <th>project_cost</th>\n",
       "      <th>project_type</th>\n",
       "      <th>sic_list</th>\n",
       "      <th>fatality</th>\n",
       "      <th>state_flag</th>\n",
       "      <th>abstract_text_y</th>\n",
       "      <th>load_dt_y</th>\n",
       "      <th>_merge</th>\n",
       "      <th>char_count</th>\n",
       "    </tr>\n",
       "  </thead>\n",
       "  <tbody>\n",
       "    <tr>\n",
       "      <th>782684</th>\n",
       "      <td>202614442</td>\n",
       "      <td>1</td>\n",
       "      <td>\"The receiving dock attendant and nine other adjacently exposed workers were sen</td>\n",
       "      <td>2019-07-22 00:19:35 EDT</td>\n",
       "      <td>1054191.0</td>\n",
       "      <td>2012-05-30 10:15:00</td>\n",
       "      <td>NaN</td>\n",
       "      <td>Truck Driver Sustains Burns from Inhaled Chemicals</td>\n",
       "      <td>TANK TRUCK,SODIUM HYDROXIDE,SODIUM HYPOCHLORITE,INHALATION,CHLORINE,CHEMICAL REACTION,CHEMICAL BURN,DOCK WORKER,TOXIC FUMES,TRUCK DRIVER</td>\n",
       "      <td>NaN</td>\n",
       "      <td>...</td>\n",
       "      <td>NaN</td>\n",
       "      <td>NaN</td>\n",
       "      <td>NaN</td>\n",
       "      <td>2026</td>\n",
       "      <td>NaN</td>\n",
       "      <td>NaN</td>\n",
       "      <td>NaN</td>\n",
       "      <td>2019-07-22 00:18:31 EDT</td>\n",
       "      <td>both</td>\n",
       "      <td>80.0</td>\n",
       "    </tr>\n",
       "    <tr>\n",
       "      <th>782685</th>\n",
       "      <td>202614442</td>\n",
       "      <td>2</td>\n",
       "      <td>t to emergency rooms for evaluation and were released with only minor injuries.</td>\n",
       "      <td>2019-07-22 00:19:35 EDT</td>\n",
       "      <td>1054191.0</td>\n",
       "      <td>2012-05-30 10:15:00</td>\n",
       "      <td>NaN</td>\n",
       "      <td>Truck Driver Sustains Burns from Inhaled Chemicals</td>\n",
       "      <td>TANK TRUCK,SODIUM HYDROXIDE,SODIUM HYPOCHLORITE,INHALATION,CHLORINE,CHEMICAL REACTION,CHEMICAL BURN,DOCK WORKER,TOXIC FUMES,TRUCK DRIVER</td>\n",
       "      <td>NaN</td>\n",
       "      <td>...</td>\n",
       "      <td>NaN</td>\n",
       "      <td>NaN</td>\n",
       "      <td>NaN</td>\n",
       "      <td>2026</td>\n",
       "      <td>NaN</td>\n",
       "      <td>NaN</td>\n",
       "      <td>NaN</td>\n",
       "      <td>2019-07-22 00:18:31 EDT</td>\n",
       "      <td>both</td>\n",
       "      <td>80.0</td>\n",
       "    </tr>\n",
       "    <tr>\n",
       "      <th>782686</th>\n",
       "      <td>202614442</td>\n",
       "      <td>3</td>\n",
       "      <td>All others employees were unharmed.\" Employee #1 was the truck driver. He was wo</td>\n",
       "      <td>2019-07-22 00:19:35 EDT</td>\n",
       "      <td>1054191.0</td>\n",
       "      <td>2012-05-30 10:15:00</td>\n",
       "      <td>NaN</td>\n",
       "      <td>Truck Driver Sustains Burns from Inhaled Chemicals</td>\n",
       "      <td>TANK TRUCK,SODIUM HYDROXIDE,SODIUM HYPOCHLORITE,INHALATION,CHLORINE,CHEMICAL REACTION,CHEMICAL BURN,DOCK WORKER,TOXIC FUMES,TRUCK DRIVER</td>\n",
       "      <td>NaN</td>\n",
       "      <td>...</td>\n",
       "      <td>NaN</td>\n",
       "      <td>NaN</td>\n",
       "      <td>NaN</td>\n",
       "      <td>2026</td>\n",
       "      <td>NaN</td>\n",
       "      <td>NaN</td>\n",
       "      <td>NaN</td>\n",
       "      <td>2019-07-22 00:18:31 EDT</td>\n",
       "      <td>both</td>\n",
       "      <td>80.0</td>\n",
       "    </tr>\n",
       "    <tr>\n",
       "      <th>782687</th>\n",
       "      <td>202614442</td>\n",
       "      <td>4</td>\n",
       "      <td>rking for Univar USA. In addition to Employee #1, who was employed by Univar USA</td>\n",
       "      <td>2019-07-22 00:19:35 EDT</td>\n",
       "      <td>1054191.0</td>\n",
       "      <td>2012-05-30 10:15:00</td>\n",
       "      <td>NaN</td>\n",
       "      <td>Truck Driver Sustains Burns from Inhaled Chemicals</td>\n",
       "      <td>TANK TRUCK,SODIUM HYDROXIDE,SODIUM HYPOCHLORITE,INHALATION,CHLORINE,CHEMICAL REACTION,CHEMICAL BURN,DOCK WORKER,TOXIC FUMES,TRUCK DRIVER</td>\n",
       "      <td>NaN</td>\n",
       "      <td>...</td>\n",
       "      <td>NaN</td>\n",
       "      <td>NaN</td>\n",
       "      <td>NaN</td>\n",
       "      <td>2026</td>\n",
       "      <td>NaN</td>\n",
       "      <td>NaN</td>\n",
       "      <td>NaN</td>\n",
       "      <td>2019-07-22 00:18:31 EDT</td>\n",
       "      <td>both</td>\n",
       "      <td>80.0</td>\n",
       "    </tr>\n",
       "    <tr>\n",
       "      <th>782688</th>\n",
       "      <td>202614442</td>\n",
       "      <td>5</td>\n",
       "      <td>, ten other workers were injured in this incident. They were employees of Darigo</td>\n",
       "      <td>2019-07-22 00:19:35 EDT</td>\n",
       "      <td>1054191.0</td>\n",
       "      <td>2012-05-30 10:15:00</td>\n",
       "      <td>NaN</td>\n",
       "      <td>Truck Driver Sustains Burns from Inhaled Chemicals</td>\n",
       "      <td>TANK TRUCK,SODIUM HYDROXIDE,SODIUM HYPOCHLORITE,INHALATION,CHLORINE,CHEMICAL REACTION,CHEMICAL BURN,DOCK WORKER,TOXIC FUMES,TRUCK DRIVER</td>\n",
       "      <td>NaN</td>\n",
       "      <td>...</td>\n",
       "      <td>NaN</td>\n",
       "      <td>NaN</td>\n",
       "      <td>NaN</td>\n",
       "      <td>2026</td>\n",
       "      <td>NaN</td>\n",
       "      <td>NaN</td>\n",
       "      <td>NaN</td>\n",
       "      <td>2019-07-22 00:18:31 EDT</td>\n",
       "      <td>both</td>\n",
       "      <td>80.0</td>\n",
       "    </tr>\n",
       "    <tr>\n",
       "      <th>...</th>\n",
       "      <td>...</td>\n",
       "      <td>...</td>\n",
       "      <td>...</td>\n",
       "      <td>...</td>\n",
       "      <td>...</td>\n",
       "      <td>...</td>\n",
       "      <td>...</td>\n",
       "      <td>...</td>\n",
       "      <td>...</td>\n",
       "      <td>...</td>\n",
       "      <td>...</td>\n",
       "      <td>...</td>\n",
       "      <td>...</td>\n",
       "      <td>...</td>\n",
       "      <td>...</td>\n",
       "      <td>...</td>\n",
       "      <td>...</td>\n",
       "      <td>...</td>\n",
       "      <td>...</td>\n",
       "      <td>...</td>\n",
       "      <td>...</td>\n",
       "    </tr>\n",
       "    <tr>\n",
       "      <th>782789</th>\n",
       "      <td>202614442</td>\n",
       "      <td>106</td>\n",
       "      <td>usy to double check the delivery.) Positive -The tanker truck was properly label</td>\n",
       "      <td>2019-07-22 00:19:35 EDT</td>\n",
       "      <td>1054191.0</td>\n",
       "      <td>2012-05-30 10:15:00</td>\n",
       "      <td>NaN</td>\n",
       "      <td>Truck Driver Sustains Burns from Inhaled Chemicals</td>\n",
       "      <td>TANK TRUCK,SODIUM HYDROXIDE,SODIUM HYPOCHLORITE,INHALATION,CHLORINE,CHEMICAL REACTION,CHEMICAL BURN,DOCK WORKER,TOXIC FUMES,TRUCK DRIVER</td>\n",
       "      <td>NaN</td>\n",
       "      <td>...</td>\n",
       "      <td>NaN</td>\n",
       "      <td>NaN</td>\n",
       "      <td>NaN</td>\n",
       "      <td>2026</td>\n",
       "      <td>NaN</td>\n",
       "      <td>NaN</td>\n",
       "      <td>NaN</td>\n",
       "      <td>2019-07-22 00:18:31 EDT</td>\n",
       "      <td>both</td>\n",
       "      <td>80.0</td>\n",
       "    </tr>\n",
       "    <tr>\n",
       "      <th>782790</th>\n",
       "      <td>202614442</td>\n",
       "      <td>107</td>\n",
       "      <td>ed. -The pipe hook-ups in the wall of the load dock were properly labeled and co</td>\n",
       "      <td>2019-07-22 00:19:35 EDT</td>\n",
       "      <td>1054191.0</td>\n",
       "      <td>2012-05-30 10:15:00</td>\n",
       "      <td>NaN</td>\n",
       "      <td>Truck Driver Sustains Burns from Inhaled Chemicals</td>\n",
       "      <td>TANK TRUCK,SODIUM HYDROXIDE,SODIUM HYPOCHLORITE,INHALATION,CHLORINE,CHEMICAL REACTION,CHEMICAL BURN,DOCK WORKER,TOXIC FUMES,TRUCK DRIVER</td>\n",
       "      <td>NaN</td>\n",
       "      <td>...</td>\n",
       "      <td>NaN</td>\n",
       "      <td>NaN</td>\n",
       "      <td>NaN</td>\n",
       "      <td>2026</td>\n",
       "      <td>NaN</td>\n",
       "      <td>NaN</td>\n",
       "      <td>NaN</td>\n",
       "      <td>2019-07-22 00:18:31 EDT</td>\n",
       "      <td>both</td>\n",
       "      <td>80.0</td>\n",
       "    </tr>\n",
       "    <tr>\n",
       "      <th>782791</th>\n",
       "      <td>202614442</td>\n",
       "      <td>108</td>\n",
       "      <td>lor coded. -The pipe hook-ups were locked. However the lock combinations were gi</td>\n",
       "      <td>2019-07-22 00:19:35 EDT</td>\n",
       "      <td>1054191.0</td>\n",
       "      <td>2012-05-30 10:15:00</td>\n",
       "      <td>NaN</td>\n",
       "      <td>Truck Driver Sustains Burns from Inhaled Chemicals</td>\n",
       "      <td>TANK TRUCK,SODIUM HYDROXIDE,SODIUM HYPOCHLORITE,INHALATION,CHLORINE,CHEMICAL REACTION,CHEMICAL BURN,DOCK WORKER,TOXIC FUMES,TRUCK DRIVER</td>\n",
       "      <td>NaN</td>\n",
       "      <td>...</td>\n",
       "      <td>NaN</td>\n",
       "      <td>NaN</td>\n",
       "      <td>NaN</td>\n",
       "      <td>2026</td>\n",
       "      <td>NaN</td>\n",
       "      <td>NaN</td>\n",
       "      <td>NaN</td>\n",
       "      <td>2019-07-22 00:18:31 EDT</td>\n",
       "      <td>both</td>\n",
       "      <td>80.0</td>\n",
       "    </tr>\n",
       "    <tr>\n",
       "      <th>782792</th>\n",
       "      <td>202614442</td>\n",
       "      <td>109</td>\n",
       "      <td>ven to the truck driver. -Emergency evacuation was successful. -The CIP was unma</td>\n",
       "      <td>2019-07-22 00:19:35 EDT</td>\n",
       "      <td>1054191.0</td>\n",
       "      <td>2012-05-30 10:15:00</td>\n",
       "      <td>NaN</td>\n",
       "      <td>Truck Driver Sustains Burns from Inhaled Chemicals</td>\n",
       "      <td>TANK TRUCK,SODIUM HYDROXIDE,SODIUM HYPOCHLORITE,INHALATION,CHLORINE,CHEMICAL REACTION,CHEMICAL BURN,DOCK WORKER,TOXIC FUMES,TRUCK DRIVER</td>\n",
       "      <td>NaN</td>\n",
       "      <td>...</td>\n",
       "      <td>NaN</td>\n",
       "      <td>NaN</td>\n",
       "      <td>NaN</td>\n",
       "      <td>2026</td>\n",
       "      <td>NaN</td>\n",
       "      <td>NaN</td>\n",
       "      <td>NaN</td>\n",
       "      <td>2019-07-22 00:18:31 EDT</td>\n",
       "      <td>both</td>\n",
       "      <td>80.0</td>\n",
       "    </tr>\n",
       "    <tr>\n",
       "      <th>782793</th>\n",
       "      <td>202614442</td>\n",
       "      <td>110</td>\n",
       "      <td>nned at the time of the incident.</td>\n",
       "      <td>2019-07-22 00:19:35 EDT</td>\n",
       "      <td>1054191.0</td>\n",
       "      <td>2012-05-30 10:15:00</td>\n",
       "      <td>NaN</td>\n",
       "      <td>Truck Driver Sustains Burns from Inhaled Chemicals</td>\n",
       "      <td>TANK TRUCK,SODIUM HYDROXIDE,SODIUM HYPOCHLORITE,INHALATION,CHLORINE,CHEMICAL REACTION,CHEMICAL BURN,DOCK WORKER,TOXIC FUMES,TRUCK DRIVER</td>\n",
       "      <td>NaN</td>\n",
       "      <td>...</td>\n",
       "      <td>NaN</td>\n",
       "      <td>NaN</td>\n",
       "      <td>NaN</td>\n",
       "      <td>2026</td>\n",
       "      <td>NaN</td>\n",
       "      <td>NaN</td>\n",
       "      <td>NaN</td>\n",
       "      <td>2019-07-22 00:18:31 EDT</td>\n",
       "      <td>both</td>\n",
       "      <td>33.0</td>\n",
       "    </tr>\n",
       "  </tbody>\n",
       "</table>\n",
       "<p>110 rows × 21 columns</p>\n",
       "</div>"
      ],
      "text/plain": [
       "        summary_nr  line_nr  \\\n",
       "782684   202614442        1   \n",
       "782685   202614442        2   \n",
       "782686   202614442        3   \n",
       "782687   202614442        4   \n",
       "782688   202614442        5   \n",
       "...            ...      ...   \n",
       "782789   202614442      106   \n",
       "782790   202614442      107   \n",
       "782791   202614442      108   \n",
       "782792   202614442      109   \n",
       "782793   202614442      110   \n",
       "\n",
       "                                                                         abstract_text_x  \\\n",
       "782684  \"The receiving dock attendant and nine other adjacently exposed workers were sen   \n",
       "782685  t to emergency rooms for evaluation and were released with only minor injuries.    \n",
       "782686  All others employees were unharmed.\" Employee #1 was the truck driver. He was wo   \n",
       "782687  rking for Univar USA. In addition to Employee #1, who was employed by Univar USA   \n",
       "782688  , ten other workers were injured in this incident. They were employees of Darigo   \n",
       "...                                                                                  ...   \n",
       "782789  usy to double check the delivery.) Positive -The tanker truck was properly label   \n",
       "782790  ed. -The pipe hook-ups in the wall of the load dock were properly labeled and co   \n",
       "782791  lor coded. -The pipe hook-ups were locked. However the lock combinations were gi   \n",
       "782792  ven to the truck driver. -Emergency evacuation was successful. -The CIP was unma   \n",
       "782793                                                 nned at the time of the incident.   \n",
       "\n",
       "                      load_dt_x  report_id           event_date  event_time  \\\n",
       "782684  2019-07-22 00:19:35 EDT  1054191.0  2012-05-30 10:15:00         NaN   \n",
       "782685  2019-07-22 00:19:35 EDT  1054191.0  2012-05-30 10:15:00         NaN   \n",
       "782686  2019-07-22 00:19:35 EDT  1054191.0  2012-05-30 10:15:00         NaN   \n",
       "782687  2019-07-22 00:19:35 EDT  1054191.0  2012-05-30 10:15:00         NaN   \n",
       "782688  2019-07-22 00:19:35 EDT  1054191.0  2012-05-30 10:15:00         NaN   \n",
       "...                         ...        ...                  ...         ...   \n",
       "782789  2019-07-22 00:19:35 EDT  1054191.0  2012-05-30 10:15:00         NaN   \n",
       "782790  2019-07-22 00:19:35 EDT  1054191.0  2012-05-30 10:15:00         NaN   \n",
       "782791  2019-07-22 00:19:35 EDT  1054191.0  2012-05-30 10:15:00         NaN   \n",
       "782792  2019-07-22 00:19:35 EDT  1054191.0  2012-05-30 10:15:00         NaN   \n",
       "782793  2019-07-22 00:19:35 EDT  1054191.0  2012-05-30 10:15:00         NaN   \n",
       "\n",
       "                                                event_desc  \\\n",
       "782684  Truck Driver Sustains Burns from Inhaled Chemicals   \n",
       "782685  Truck Driver Sustains Burns from Inhaled Chemicals   \n",
       "782686  Truck Driver Sustains Burns from Inhaled Chemicals   \n",
       "782687  Truck Driver Sustains Burns from Inhaled Chemicals   \n",
       "782688  Truck Driver Sustains Burns from Inhaled Chemicals   \n",
       "...                                                    ...   \n",
       "782789  Truck Driver Sustains Burns from Inhaled Chemicals   \n",
       "782790  Truck Driver Sustains Burns from Inhaled Chemicals   \n",
       "782791  Truck Driver Sustains Burns from Inhaled Chemicals   \n",
       "782792  Truck Driver Sustains Burns from Inhaled Chemicals   \n",
       "782793  Truck Driver Sustains Burns from Inhaled Chemicals   \n",
       "\n",
       "                                                                                                                                   event_keyword  \\\n",
       "782684  TANK TRUCK,SODIUM HYDROXIDE,SODIUM HYPOCHLORITE,INHALATION,CHLORINE,CHEMICAL REACTION,CHEMICAL BURN,DOCK WORKER,TOXIC FUMES,TRUCK DRIVER   \n",
       "782685  TANK TRUCK,SODIUM HYDROXIDE,SODIUM HYPOCHLORITE,INHALATION,CHLORINE,CHEMICAL REACTION,CHEMICAL BURN,DOCK WORKER,TOXIC FUMES,TRUCK DRIVER   \n",
       "782686  TANK TRUCK,SODIUM HYDROXIDE,SODIUM HYPOCHLORITE,INHALATION,CHLORINE,CHEMICAL REACTION,CHEMICAL BURN,DOCK WORKER,TOXIC FUMES,TRUCK DRIVER   \n",
       "782687  TANK TRUCK,SODIUM HYDROXIDE,SODIUM HYPOCHLORITE,INHALATION,CHLORINE,CHEMICAL REACTION,CHEMICAL BURN,DOCK WORKER,TOXIC FUMES,TRUCK DRIVER   \n",
       "782688  TANK TRUCK,SODIUM HYDROXIDE,SODIUM HYPOCHLORITE,INHALATION,CHLORINE,CHEMICAL REACTION,CHEMICAL BURN,DOCK WORKER,TOXIC FUMES,TRUCK DRIVER   \n",
       "...                                                                                                                                          ...   \n",
       "782789  TANK TRUCK,SODIUM HYDROXIDE,SODIUM HYPOCHLORITE,INHALATION,CHLORINE,CHEMICAL REACTION,CHEMICAL BURN,DOCK WORKER,TOXIC FUMES,TRUCK DRIVER   \n",
       "782790  TANK TRUCK,SODIUM HYDROXIDE,SODIUM HYPOCHLORITE,INHALATION,CHLORINE,CHEMICAL REACTION,CHEMICAL BURN,DOCK WORKER,TOXIC FUMES,TRUCK DRIVER   \n",
       "782791  TANK TRUCK,SODIUM HYDROXIDE,SODIUM HYPOCHLORITE,INHALATION,CHLORINE,CHEMICAL REACTION,CHEMICAL BURN,DOCK WORKER,TOXIC FUMES,TRUCK DRIVER   \n",
       "782792  TANK TRUCK,SODIUM HYDROXIDE,SODIUM HYPOCHLORITE,INHALATION,CHLORINE,CHEMICAL REACTION,CHEMICAL BURN,DOCK WORKER,TOXIC FUMES,TRUCK DRIVER   \n",
       "782793  TANK TRUCK,SODIUM HYDROXIDE,SODIUM HYPOCHLORITE,INHALATION,CHLORINE,CHEMICAL REACTION,CHEMICAL BURN,DOCK WORKER,TOXIC FUMES,TRUCK DRIVER   \n",
       "\n",
       "       const_end_use  ...  nonbuild_ht  project_cost project_type sic_list  \\\n",
       "782684           NaN  ...          NaN           NaN          NaN     2026   \n",
       "782685           NaN  ...          NaN           NaN          NaN     2026   \n",
       "782686           NaN  ...          NaN           NaN          NaN     2026   \n",
       "782687           NaN  ...          NaN           NaN          NaN     2026   \n",
       "782688           NaN  ...          NaN           NaN          NaN     2026   \n",
       "...              ...  ...          ...           ...          ...      ...   \n",
       "782789           NaN  ...          NaN           NaN          NaN     2026   \n",
       "782790           NaN  ...          NaN           NaN          NaN     2026   \n",
       "782791           NaN  ...          NaN           NaN          NaN     2026   \n",
       "782792           NaN  ...          NaN           NaN          NaN     2026   \n",
       "782793           NaN  ...          NaN           NaN          NaN     2026   \n",
       "\n",
       "       fatality state_flag  abstract_text_y                load_dt_y _merge  \\\n",
       "782684      NaN        NaN              NaN  2019-07-22 00:18:31 EDT   both   \n",
       "782685      NaN        NaN              NaN  2019-07-22 00:18:31 EDT   both   \n",
       "782686      NaN        NaN              NaN  2019-07-22 00:18:31 EDT   both   \n",
       "782687      NaN        NaN              NaN  2019-07-22 00:18:31 EDT   both   \n",
       "782688      NaN        NaN              NaN  2019-07-22 00:18:31 EDT   both   \n",
       "...         ...        ...              ...                      ...    ...   \n",
       "782789      NaN        NaN              NaN  2019-07-22 00:18:31 EDT   both   \n",
       "782790      NaN        NaN              NaN  2019-07-22 00:18:31 EDT   both   \n",
       "782791      NaN        NaN              NaN  2019-07-22 00:18:31 EDT   both   \n",
       "782792      NaN        NaN              NaN  2019-07-22 00:18:31 EDT   both   \n",
       "782793      NaN        NaN              NaN  2019-07-22 00:18:31 EDT   both   \n",
       "\n",
       "       char_count  \n",
       "782684       80.0  \n",
       "782685       80.0  \n",
       "782686       80.0  \n",
       "782687       80.0  \n",
       "782688       80.0  \n",
       "...           ...  \n",
       "782789       80.0  \n",
       "782790       80.0  \n",
       "782791       80.0  \n",
       "782792       80.0  \n",
       "782793       33.0  \n",
       "\n",
       "[110 rows x 21 columns]"
      ]
     },
     "execution_count": 92,
     "metadata": {},
     "output_type": "execute_result"
    }
   ],
   "source": [
    "#Examine form with most rows in accident_abstract_df\n",
    "df_all_abstract.loc[df_all_abstract['summary_nr']==202614442]"
   ]
  },
  {
   "cell_type": "code",
   "execution_count": 191,
   "id": "e3c9c53a",
   "metadata": {},
   "outputs": [
    {
     "data": {
      "text/plain": [
       "0    80.0\n",
       "Name: char_count, dtype: float64"
      ]
     },
     "execution_count": 191,
     "metadata": {},
     "output_type": "execute_result"
    }
   ],
   "source": [
    "# Number of characters\n",
    "df_all_abstract['char_count'] = df_all_abstract['abstract_text_x'].str.len() ## this also includes spaces\n",
    "df_all_abstract['char_count'].loc[df_all_abstract['summary_nr']==202614442].mode()"
   ]
  },
  {
   "cell_type": "markdown",
   "id": "912134bf",
   "metadata": {},
   "source": [
    "***Note:*** The reason for duplicates was due to a 80-character limit in the abstract_text column. We would need to append the rows by summary_nr if a more detailed examination into the abstract is neccessary. Otherwise, we can proceed with the \"event_keyword\" first."
   ]
  },
  {
   "cell_type": "markdown",
   "id": "6bd9e051",
   "metadata": {},
   "source": [
    "### <span style=\"color:#045F5F\">Compare accident_df & accident_injury_df</span>"
   ]
  },
  {
   "cell_type": "code",
   "execution_count": 213,
   "id": "3c7009db",
   "metadata": {
    "scrolled": true
   },
   "outputs": [
    {
     "name": "stdout",
     "output_type": "stream",
     "text": [
      "(206784, 38)\n"
     ]
    },
    {
     "data": {
      "text/plain": [
       "both          172606\n",
       "left_only      34178\n",
       "right_only         0\n",
       "Name: _merge, dtype: int64"
      ]
     },
     "execution_count": 213,
     "metadata": {},
     "output_type": "execute_result"
    }
   ],
   "source": [
    "#Merge accident_df on accident_injury_df to identify \"missing\" accidents\n",
    "df_all_injury = accident_injury_df.merge(accident_df.drop_duplicates(), on=['summary_nr'], how='left', indicator=True)\n",
    "print(df_all_injury.shape)\n",
    "df_all_injury['_merge'].value_counts()"
   ]
  },
  {
   "cell_type": "code",
   "execution_count": 214,
   "id": "fca624d1",
   "metadata": {},
   "outputs": [],
   "source": [
    "#Missing accidents in accident_df\n",
    "missing_acc_forms = df_all_injury[['summary_nr','rel_insp_nr','sic_list']].loc[df_all_injury['_merge']=='left_only']\n",
    "missing_acc_forms.reset_index(inplace=True,drop=True) #reset index in place and without adding new column of old index"
   ]
  },
  {
   "cell_type": "markdown",
   "id": "37d4e05a",
   "metadata": {},
   "source": [
    "***Assumption:*** column \"rel_insp_nr\" in accident_injury_df is the same as \"activity_nr\" in inspection_df\n",
    "\n",
    "|Dataframe|Column|Data Type|Description|\n",
    "|---|---|---|---|\n",
    "|accident_injury_df|summary_nr|numeric(9,0)|Identifies the accident OSHA-170 form|\n",
    "|accident_injury_df|rel_insp_nr|numeric(9,0)|Identifies the inspection associated with investigating a particular injury|\n",
    "|inspection_df|activity_nr|numeric(9,0)|Unique identifier for the inspection|"
   ]
  },
  {
   "cell_type": "code",
   "execution_count": 215,
   "id": "918d7c89",
   "metadata": {},
   "outputs": [],
   "source": [
    "#List of interested columns from inspection_df\n",
    "attri_list = ['activity_nr','insp_type','open_date','case_mod_date','close_conf_date','close_case_date','sic_code']"
   ]
  },
  {
   "cell_type": "code",
   "execution_count": 216,
   "id": "0b39f30b",
   "metadata": {},
   "outputs": [],
   "source": [
    "#Left merge on form IDs that are missing from accident_df but available in accident_injury_df\n",
    "missing_acc_forms = missing_acc_forms.merge(inspection_df[attri_list], left_on='rel_insp_nr', \n",
    "                                            right_on='activity_nr', how='left')\n",
    "# missing_acc_forms"
   ]
  },
  {
   "cell_type": "code",
   "execution_count": 217,
   "id": "8af65099",
   "metadata": {},
   "outputs": [],
   "source": [
    "#Year when inspection opened\n",
    "missing_acc_forms['year_open'] = missing_acc_forms['open_date'].str[:4]\n",
    "missing_acc_forms['year_open'] = missing_acc_forms['year_open'].astype(float)\n",
    "\n",
    "#Year when inspection closed\n",
    "missing_acc_forms['year_close'] = missing_acc_forms['close_case_date'].str[:4]\n",
    "missing_acc_forms['year_close'] = missing_acc_forms['year_close'].astype(float)\n",
    "\n",
    "#Year when accident occurred\n",
    "accident_df['event_year'] = accident_df['event_date'].str[:4]\n",
    "accident_df['event_year'] = accident_df['event_year'].astype(int)"
   ]
  },
  {
   "cell_type": "code",
   "execution_count": 219,
   "id": "0496b186",
   "metadata": {},
   "outputs": [
    {
     "data": {
      "text/html": [
       "<div>\n",
       "<style scoped>\n",
       "    .dataframe tbody tr th:only-of-type {\n",
       "        vertical-align: middle;\n",
       "    }\n",
       "\n",
       "    .dataframe tbody tr th {\n",
       "        vertical-align: top;\n",
       "    }\n",
       "\n",
       "    .dataframe thead th {\n",
       "        text-align: right;\n",
       "    }\n",
       "</style>\n",
       "<table border=\"1\" class=\"dataframe\">\n",
       "  <thead>\n",
       "    <tr style=\"text-align: right;\">\n",
       "      <th></th>\n",
       "      <th>year_open</th>\n",
       "      <th>year_close</th>\n",
       "    </tr>\n",
       "  </thead>\n",
       "  <tbody>\n",
       "    <tr>\n",
       "      <th>count</th>\n",
       "      <td>34158.000000</td>\n",
       "      <td>33987.000000</td>\n",
       "    </tr>\n",
       "    <tr>\n",
       "      <th>mean</th>\n",
       "      <td>1981.841560</td>\n",
       "      <td>1983.698444</td>\n",
       "    </tr>\n",
       "    <tr>\n",
       "      <th>std</th>\n",
       "      <td>9.191668</td>\n",
       "      <td>8.965512</td>\n",
       "    </tr>\n",
       "    <tr>\n",
       "      <th>min</th>\n",
       "      <td>1973.000000</td>\n",
       "      <td>1974.000000</td>\n",
       "    </tr>\n",
       "    <tr>\n",
       "      <th>25%</th>\n",
       "      <td>1977.000000</td>\n",
       "      <td>1980.000000</td>\n",
       "    </tr>\n",
       "    <tr>\n",
       "      <th>50%</th>\n",
       "      <td>1980.000000</td>\n",
       "      <td>1982.000000</td>\n",
       "    </tr>\n",
       "    <tr>\n",
       "      <th>75%</th>\n",
       "      <td>1982.000000</td>\n",
       "      <td>1984.000000</td>\n",
       "    </tr>\n",
       "    <tr>\n",
       "      <th>max</th>\n",
       "      <td>2015.000000</td>\n",
       "      <td>2019.000000</td>\n",
       "    </tr>\n",
       "  </tbody>\n",
       "</table>\n",
       "</div>"
      ],
      "text/plain": [
       "          year_open    year_close\n",
       "count  34158.000000  33987.000000\n",
       "mean    1981.841560   1983.698444\n",
       "std        9.191668      8.965512\n",
       "min     1973.000000   1974.000000\n",
       "25%     1977.000000   1980.000000\n",
       "50%     1980.000000   1982.000000\n",
       "75%     1982.000000   1984.000000\n",
       "max     2015.000000   2019.000000"
      ]
     },
     "execution_count": 219,
     "metadata": {},
     "output_type": "execute_result"
    }
   ],
   "source": [
    "# missing_acc_forms[['year_open','year_close']].describe().loc[['count','mean','min','max']]\n",
    "missing_acc_forms[['year_open','year_close']].describe()"
   ]
  },
  {
   "cell_type": "code",
   "execution_count": 202,
   "id": "2782f4ae",
   "metadata": {},
   "outputs": [
    {
     "data": {
      "text/plain": [
       "(22509,)"
      ]
     },
     "execution_count": 202,
     "metadata": {},
     "output_type": "execute_result"
    }
   ],
   "source": [
    "missing_acc_forms['summary_nr'].unique().shape"
   ]
  },
  {
   "cell_type": "code",
   "execution_count": 220,
   "id": "35f5fb0f",
   "metadata": {},
   "outputs": [
    {
     "data": {
      "text/plain": [
       "count    142212.000000\n",
       "mean       2003.742778\n",
       "std          10.301551\n",
       "min        1972.000000\n",
       "25%        1995.000000\n",
       "50%        2004.000000\n",
       "75%        2012.000000\n",
       "max        2021.000000\n",
       "Name: event_year, dtype: float64"
      ]
     },
     "execution_count": 220,
     "metadata": {},
     "output_type": "execute_result"
    }
   ],
   "source": [
    "accident_df['event_year'].describe()"
   ]
  },
  {
   "cell_type": "code",
   "execution_count": 232,
   "id": "54a61c03",
   "metadata": {},
   "outputs": [
    {
     "name": "stdout",
     "output_type": "stream",
     "text": [
      "Missing data percentage (%):  2.79\n"
     ]
    }
   ],
   "source": [
    "print(\"Missing data percentage (%): \",round(((missing_acc_forms.loc[missing_acc_forms['year_open']>2000].shape[0])\n",
    "                                            /(accident_df.loc[accident_df['event_year']>2000].shape[0] + \n",
    "                                              missing_acc_forms.loc[missing_acc_forms['year_open']>2000].shape[0])*100),2))"
   ]
  },
  {
   "cell_type": "markdown",
   "id": "45662870",
   "metadata": {},
   "source": [
    "***Observation:*** 22k unique accident forms missing from accident_df but majority were prior to 2000s. The missing rows could thus be treated as negligible as they make up less than 5% of the dataset (including duplicates)."
   ]
  },
  {
   "cell_type": "code",
   "execution_count": 89,
   "id": "aac60b66",
   "metadata": {},
   "outputs": [
    {
     "data": {
      "text/plain": [
       "201921863    152\n",
       "201923414    104\n",
       "170073035     87\n",
       "118174        86\n",
       "14303978      75\n",
       "            ... \n",
       "170739627      1\n",
       "170739635      1\n",
       "170739643      1\n",
       "170739650      1\n",
       "980213516      1\n",
       "Name: summary_nr, Length: 164716, dtype: int64"
      ]
     },
     "execution_count": 89,
     "metadata": {},
     "output_type": "execute_result"
    }
   ],
   "source": [
    "df_all_injury['summary_nr'].value_counts()"
   ]
  },
  {
   "cell_type": "code",
   "execution_count": 290,
   "id": "939d19db",
   "metadata": {},
   "outputs": [
    {
     "data": {
      "text/html": [
       "<div>\n",
       "<style scoped>\n",
       "    .dataframe tbody tr th:only-of-type {\n",
       "        vertical-align: middle;\n",
       "    }\n",
       "\n",
       "    .dataframe tbody tr th {\n",
       "        vertical-align: top;\n",
       "    }\n",
       "\n",
       "    .dataframe thead th {\n",
       "        text-align: right;\n",
       "    }\n",
       "</style>\n",
       "<table border=\"1\" class=\"dataframe\">\n",
       "  <thead>\n",
       "    <tr style=\"text-align: right;\">\n",
       "      <th></th>\n",
       "      <th>rel_insp_nr</th>\n",
       "      <th>age</th>\n",
       "      <th>sex</th>\n",
       "      <th>fatality</th>\n",
       "      <th>event_keyword</th>\n",
       "    </tr>\n",
       "  </thead>\n",
       "  <tbody>\n",
       "    <tr>\n",
       "      <th>148627</th>\n",
       "      <td>123578494</td>\n",
       "      <td>30</td>\n",
       "      <td>M</td>\n",
       "      <td>X</td>\n",
       "      <td>EXPLOSION,FIRE,BURN,HEAT,SPRAIN,CHEMICAL,CHEMICAL BURN,CHEMICAL REACTION,CHEMICAL VAPOR</td>\n",
       "    </tr>\n",
       "    <tr>\n",
       "      <th>148628</th>\n",
       "      <td>123578528</td>\n",
       "      <td>0</td>\n",
       "      <td>NaN</td>\n",
       "      <td>X</td>\n",
       "      <td>EXPLOSION,FIRE,BURN,HEAT,SPRAIN,CHEMICAL,CHEMICAL BURN,CHEMICAL REACTION,CHEMICAL VAPOR</td>\n",
       "    </tr>\n",
       "    <tr>\n",
       "      <th>148629</th>\n",
       "      <td>123578544</td>\n",
       "      <td>25</td>\n",
       "      <td>M</td>\n",
       "      <td>X</td>\n",
       "      <td>EXPLOSION,FIRE,BURN,HEAT,SPRAIN,CHEMICAL,CHEMICAL BURN,CHEMICAL REACTION,CHEMICAL VAPOR</td>\n",
       "    </tr>\n",
       "    <tr>\n",
       "      <th>148630</th>\n",
       "      <td>123578544</td>\n",
       "      <td>29</td>\n",
       "      <td>F</td>\n",
       "      <td>X</td>\n",
       "      <td>EXPLOSION,FIRE,BURN,HEAT,SPRAIN,CHEMICAL,CHEMICAL BURN,CHEMICAL REACTION,CHEMICAL VAPOR</td>\n",
       "    </tr>\n",
       "    <tr>\n",
       "      <th>148631</th>\n",
       "      <td>123578551</td>\n",
       "      <td>0</td>\n",
       "      <td>NaN</td>\n",
       "      <td>X</td>\n",
       "      <td>EXPLOSION,FIRE,BURN,HEAT,SPRAIN,CHEMICAL,CHEMICAL BURN,CHEMICAL REACTION,CHEMICAL VAPOR</td>\n",
       "    </tr>\n",
       "    <tr>\n",
       "      <th>...</th>\n",
       "      <td>...</td>\n",
       "      <td>...</td>\n",
       "      <td>...</td>\n",
       "      <td>...</td>\n",
       "      <td>...</td>\n",
       "    </tr>\n",
       "    <tr>\n",
       "      <th>148774</th>\n",
       "      <td>301406500</td>\n",
       "      <td>35</td>\n",
       "      <td>M</td>\n",
       "      <td>X</td>\n",
       "      <td>EXPLOSION,FIRE,BURN,HEAT,SPRAIN,CHEMICAL,CHEMICAL BURN,CHEMICAL REACTION,CHEMICAL VAPOR</td>\n",
       "    </tr>\n",
       "    <tr>\n",
       "      <th>148775</th>\n",
       "      <td>301407409</td>\n",
       "      <td>0</td>\n",
       "      <td>NaN</td>\n",
       "      <td>X</td>\n",
       "      <td>EXPLOSION,FIRE,BURN,HEAT,SPRAIN,CHEMICAL,CHEMICAL BURN,CHEMICAL REACTION,CHEMICAL VAPOR</td>\n",
       "    </tr>\n",
       "    <tr>\n",
       "      <th>148776</th>\n",
       "      <td>301407417</td>\n",
       "      <td>0</td>\n",
       "      <td>NaN</td>\n",
       "      <td>X</td>\n",
       "      <td>EXPLOSION,FIRE,BURN,HEAT,SPRAIN,CHEMICAL,CHEMICAL BURN,CHEMICAL REACTION,CHEMICAL VAPOR</td>\n",
       "    </tr>\n",
       "    <tr>\n",
       "      <th>148777</th>\n",
       "      <td>301407425</td>\n",
       "      <td>0</td>\n",
       "      <td>NaN</td>\n",
       "      <td>X</td>\n",
       "      <td>EXPLOSION,FIRE,BURN,HEAT,SPRAIN,CHEMICAL,CHEMICAL BURN,CHEMICAL REACTION,CHEMICAL VAPOR</td>\n",
       "    </tr>\n",
       "    <tr>\n",
       "      <th>148778</th>\n",
       "      <td>301407433</td>\n",
       "      <td>0</td>\n",
       "      <td>NaN</td>\n",
       "      <td>X</td>\n",
       "      <td>EXPLOSION,FIRE,BURN,HEAT,SPRAIN,CHEMICAL,CHEMICAL BURN,CHEMICAL REACTION,CHEMICAL VAPOR</td>\n",
       "    </tr>\n",
       "  </tbody>\n",
       "</table>\n",
       "<p>152 rows × 5 columns</p>\n",
       "</div>"
      ],
      "text/plain": [
       "        rel_insp_nr  age  sex fatality  \\\n",
       "148627    123578494   30    M        X   \n",
       "148628    123578528    0  NaN        X   \n",
       "148629    123578544   25    M        X   \n",
       "148630    123578544   29    F        X   \n",
       "148631    123578551    0  NaN        X   \n",
       "...             ...  ...  ...      ...   \n",
       "148774    301406500   35    M        X   \n",
       "148775    301407409    0  NaN        X   \n",
       "148776    301407417    0  NaN        X   \n",
       "148777    301407425    0  NaN        X   \n",
       "148778    301407433    0  NaN        X   \n",
       "\n",
       "                                                                                  event_keyword  \n",
       "148627  EXPLOSION,FIRE,BURN,HEAT,SPRAIN,CHEMICAL,CHEMICAL BURN,CHEMICAL REACTION,CHEMICAL VAPOR  \n",
       "148628  EXPLOSION,FIRE,BURN,HEAT,SPRAIN,CHEMICAL,CHEMICAL BURN,CHEMICAL REACTION,CHEMICAL VAPOR  \n",
       "148629  EXPLOSION,FIRE,BURN,HEAT,SPRAIN,CHEMICAL,CHEMICAL BURN,CHEMICAL REACTION,CHEMICAL VAPOR  \n",
       "148630  EXPLOSION,FIRE,BURN,HEAT,SPRAIN,CHEMICAL,CHEMICAL BURN,CHEMICAL REACTION,CHEMICAL VAPOR  \n",
       "148631  EXPLOSION,FIRE,BURN,HEAT,SPRAIN,CHEMICAL,CHEMICAL BURN,CHEMICAL REACTION,CHEMICAL VAPOR  \n",
       "...                                                                                         ...  \n",
       "148774  EXPLOSION,FIRE,BURN,HEAT,SPRAIN,CHEMICAL,CHEMICAL BURN,CHEMICAL REACTION,CHEMICAL VAPOR  \n",
       "148775  EXPLOSION,FIRE,BURN,HEAT,SPRAIN,CHEMICAL,CHEMICAL BURN,CHEMICAL REACTION,CHEMICAL VAPOR  \n",
       "148776  EXPLOSION,FIRE,BURN,HEAT,SPRAIN,CHEMICAL,CHEMICAL BURN,CHEMICAL REACTION,CHEMICAL VAPOR  \n",
       "148777  EXPLOSION,FIRE,BURN,HEAT,SPRAIN,CHEMICAL,CHEMICAL BURN,CHEMICAL REACTION,CHEMICAL VAPOR  \n",
       "148778  EXPLOSION,FIRE,BURN,HEAT,SPRAIN,CHEMICAL,CHEMICAL BURN,CHEMICAL REACTION,CHEMICAL VAPOR  \n",
       "\n",
       "[152 rows x 5 columns]"
      ]
     },
     "execution_count": 290,
     "metadata": {},
     "output_type": "execute_result"
    }
   ],
   "source": [
    "df_all_injury[['rel_insp_nr','age','sex','fatality','event_keyword']].loc[df_all_injury['summary_nr']==201921863]"
   ]
  },
  {
   "cell_type": "code",
   "execution_count": 237,
   "id": "61c13de1",
   "metadata": {},
   "outputs": [
    {
     "data": {
      "text/plain": [
       "summary_nr                                                                                      201921863\n",
       "rel_insp_nr                                                                                     123578528\n",
       "age                                                                                                     0\n",
       "sex                                                                                                   NaN\n",
       "nature_of_inj                                                                                         0.0\n",
       "part_of_body                                                                                          0.0\n",
       "src_of_injury                                                                                         0.0\n",
       "event_type                                                                                            0.0\n",
       "evn_factor                                                                                            0.0\n",
       "hum_factor                                                                                            0.0\n",
       "occ_code                                                                                              0.0\n",
       "degree_of_inj                                                                                         0.0\n",
       "task_assigned                                                                                         0.0\n",
       "hazsub                                                                                                NaN\n",
       "const_op                                                                                              0.0\n",
       "const_op_cause                                                                                        0.0\n",
       "fat_cause                                                                                             0.0\n",
       "fall_distance                                                                                         NaN\n",
       "fall_ht                                                                                               NaN\n",
       "injury_line_nr                                                                                        105\n",
       "load_dt_x                                                                         2019-07-22 00:18:41 EDT\n",
       "report_id                                                                                        626700.0\n",
       "event_date                                                                            2000-03-27 13:27:00\n",
       "event_time                                                                                            NaN\n",
       "event_desc                                         One Employee Killed 145 Injured In Fire  And Explosion\n",
       "event_keyword     EXPLOSION,FIRE,BURN,HEAT,SPRAIN,CHEMICAL,CHEMICAL BURN,CHEMICAL REACTION,CHEMICAL VAPOR\n",
       "const_end_use                                                                                           D\n",
       "build_stories                                                                                         NaN\n",
       "nonbuild_ht                                                                                          40.0\n",
       "project_cost                                                                                            G\n",
       "project_type                                                                                            C\n",
       "sic_list                                                          2821,8744,7371,1542,8711,1799,1721,8999\n",
       "fatality                                                                                                X\n",
       "state_flag                                                                                            NaN\n",
       "abstract_text                                                                                         NaN\n",
       "load_dt_y                                                                         2019-07-22 00:18:30 EDT\n",
       "event_year                                                                                         2000.0\n",
       "_merge                                                                                               both\n",
       "Name: 148628, dtype: object"
      ]
     },
     "execution_count": 237,
     "metadata": {},
     "output_type": "execute_result"
    }
   ],
   "source": [
    "df_all_injury.iloc[148628].T"
   ]
  },
  {
   "cell_type": "markdown",
   "id": "46318e72",
   "metadata": {},
   "source": [
    "***Notes:*** Reason for duplicates in accident forms in accident_injury_df was due to the number of injuries incurred. E.g. accident form ID 201921863 had 1 fatality and 145 injured. This explains 146 of the 152 duplicates but there are still some extra entries."
   ]
  },
  {
   "cell_type": "markdown",
   "id": "e4509bc0",
   "metadata": {},
   "source": [
    "## <span style=\"color:#36454F\">Subsetting the dataframe</span>"
   ]
  },
  {
   "cell_type": "markdown",
   "id": "4bc5fe3c",
   "metadata": {},
   "source": [
    "The construction related variable which returned the highest number of cases was \"const_op_cause\" from the accident_injury_df. This showed that there were many missing values in the construction variables in the accident_df."
   ]
  },
  {
   "cell_type": "code",
   "execution_count": 296,
   "id": "2667311f",
   "metadata": {},
   "outputs": [
    {
     "data": {
      "text/plain": [
       "(138715,)"
      ]
     },
     "execution_count": 296,
     "metadata": {},
     "output_type": "execute_result"
    }
   ],
   "source": [
    "construction_df = df_all_injury.loc[df_all_injury['const_op_cause'].notnull()==True]\n",
    "construction_df['summary_nr'].unique().shape"
   ]
  },
  {
   "cell_type": "code",
   "execution_count": 297,
   "id": "ccb25b09",
   "metadata": {},
   "outputs": [
    {
     "name": "stdout",
     "output_type": "stream",
     "text": [
      "<class 'pandas.core.frame.DataFrame'>\n",
      "Int64Index: 178205 entries, 0 to 206783\n",
      "Data columns (total 38 columns):\n",
      " #   Column          Non-Null Count   Dtype   \n",
      "---  ------          --------------   -----   \n",
      " 0   summary_nr      178205 non-null  int64   \n",
      " 1   rel_insp_nr     178205 non-null  int64   \n",
      " 2   age             178205 non-null  int64   \n",
      " 3   sex             133428 non-null  object  \n",
      " 4   nature_of_inj   170715 non-null  float64 \n",
      " 5   part_of_body    170717 non-null  float64 \n",
      " 6   src_of_injury   170717 non-null  float64 \n",
      " 7   event_type      178200 non-null  float64 \n",
      " 8   evn_factor      170717 non-null  float64 \n",
      " 9   hum_factor      170716 non-null  float64 \n",
      " 10  occ_code        177608 non-null  float64 \n",
      " 11  degree_of_inj   178200 non-null  float64 \n",
      " 12  task_assigned   177453 non-null  float64 \n",
      " 13  hazsub          29145 non-null   object  \n",
      " 14  const_op        170718 non-null  float64 \n",
      " 15  const_op_cause  178205 non-null  float64 \n",
      " 16  fat_cause       170687 non-null  float64 \n",
      " 17  fall_distance   2532 non-null    float64 \n",
      " 18  fall_ht         13447 non-null   float64 \n",
      " 19  injury_line_nr  178205 non-null  int64   \n",
      " 20  load_dt_x       178205 non-null  object  \n",
      " 21  report_id       144027 non-null  float64 \n",
      " 22  event_date      144027 non-null  object  \n",
      " 23  event_time      0 non-null       float64 \n",
      " 24  event_desc      144021 non-null  object  \n",
      " 25  event_keyword   143846 non-null  object  \n",
      " 26  const_end_use   34453 non-null   object  \n",
      " 27  build_stories   23956 non-null   float64 \n",
      " 28  nonbuild_ht     17226 non-null   float64 \n",
      " 29  project_cost    29325 non-null   object  \n",
      " 30  project_type    34727 non-null   object  \n",
      " 31  sic_list        136245 non-null  object  \n",
      " 32  fatality        64133 non-null   object  \n",
      " 33  state_flag      0 non-null       float64 \n",
      " 34  abstract_text   0 non-null       float64 \n",
      " 35  load_dt_y       144027 non-null  object  \n",
      " 36  event_year      144027 non-null  float64 \n",
      " 37  _merge          178205 non-null  category\n",
      "dtypes: category(1), float64(21), int64(4), object(12)\n",
      "memory usage: 51.8+ MB\n"
     ]
    }
   ],
   "source": [
    "construction_df.info()"
   ]
  },
  {
   "cell_type": "code",
   "execution_count": null,
   "id": "3a5ffe25",
   "metadata": {},
   "outputs": [],
   "source": []
  }
 ],
 "metadata": {
  "kernelspec": {
   "display_name": "Python 3 (ipykernel)",
   "language": "python",
   "name": "python3"
  },
  "language_info": {
   "codemirror_mode": {
    "name": "ipython",
    "version": 3
   },
   "file_extension": ".py",
   "mimetype": "text/x-python",
   "name": "python",
   "nbconvert_exporter": "python",
   "pygments_lexer": "ipython3",
   "version": "3.8.12"
  }
 },
 "nbformat": 4,
 "nbformat_minor": 5
}
